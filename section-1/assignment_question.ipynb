{
 "cells": [
  {
   "cell_type": "markdown",
   "metadata": {},
   "source": [
    "# Lesson 1.2: Python Basics\n",
    "## Topics Covered:\n",
    "- Syntax and Semantics\n",
    "- Variables and Data Types\n",
    "- Basic Operators (Arithmetic, Comparison, Logical)\n"
   ]
  },
  {
   "cell_type": "markdown",
   "metadata": {},
   "source": [
    "## 1. Syntax and Semantics\n",
    "\n",
    "**Question 1:** Write a Python program to print \"Hello, World!\"."
   ]
  },
  {
   "cell_type": "code",
   "execution_count": 1,
   "metadata": {},
   "outputs": [
    {
     "name": "stdout",
     "output_type": "stream",
     "text": [
      "hello world\n"
     ]
    }
   ],
   "source": [
    "# Your code here\n",
    "print(\"hello world\")"
   ]
  },
  {
   "cell_type": "markdown",
   "metadata": {},
   "source": [
    "**Question 2:** Write a Python program that takes a user input and prints it."
   ]
  },
  {
   "cell_type": "code",
   "execution_count": null,
   "metadata": {},
   "outputs": [
    {
     "data": {
      "text/plain": [
       "7"
      ]
     },
     "execution_count": 5,
     "metadata": {},
     "output_type": "execute_result"
    }
   ],
   "source": [
    "# Your code here\n",
    "number = int(input(\"what is your desired number: \"))\n",
    "number"
   ]
  },
  {
   "cell_type": "markdown",
   "metadata": {},
   "source": [
    "**Question 3:** Write a Python program to check if a number is positive, negative, or zero."
   ]
  },
  {
   "cell_type": "code",
   "execution_count": 8,
   "metadata": {},
   "outputs": [
    {
     "name": "stdout",
     "output_type": "stream",
     "text": [
      "negative number\n"
     ]
    }
   ],
   "source": [
    "# Your code here\n",
    "number = int(input(\"what is your desired number: \"))\n",
    "if number < 0:\n",
    "    print(\"negative number\")\n",
    "elif number == 0:\n",
    "    print(\"it is zero\")\n",
    "else:\n",
    "    print(\"positive number\")\n"
   ]
  },
  {
   "cell_type": "markdown",
   "metadata": {},
   "source": [
    "**Question 4:** Write a Python program to find the largest of three numbers."
   ]
  },
  {
   "cell_type": "code",
   "execution_count": 11,
   "metadata": {},
   "outputs": [
    {
     "name": "stdout",
     "output_type": "stream",
     "text": [
      "11000 is the biggest number out of 9,6,11000\n"
     ]
    }
   ],
   "source": [
    "# Your code here\n",
    "a = int(input(\"give in your number: \"))\n",
    "b = int(input(\"give in your number: \"))\n",
    "c = int(input(\"give in your number: \"))\n",
    "if a>b and a>c:\n",
    "    print(f\"{a} is the biggest number out of {a},{b},{c}\")\n",
    "elif b>a and b>c:\n",
    "    print(f\"{b} is the biggest number out of {a},{b},{c}\")\n",
    "elif c>b and c>a:\n",
    "    print(f\"{c} is the biggest number out of {a},{b},{c}\")\n"
   ]
  },
  {
   "cell_type": "markdown",
   "metadata": {},
   "source": [
    "**Question 5:** Write a Python program to calculate the factorial of a number."
   ]
  },
  {
   "cell_type": "code",
   "execution_count": 19,
   "metadata": {},
   "outputs": [
    {
     "name": "stdout",
     "output_type": "stream",
     "text": [
      "The factorial of 4 is 24\n"
     ]
    }
   ],
   "source": [
    "# # Your code here\n",
    "# a = int(input(\"enter a number:\"))\n",
    "# factorial = 1\n",
    "# if a == 0:\n",
    "#     print(1)\n",
    "# else:\n",
    "#     for i in range(1, a+1):\n",
    "#         factorial *=i\n",
    "#     print(f\"The factorial of {a} is {factorial}\")\n",
    "\n",
    "\n",
    "        \n",
    "\n",
    "# Solution\n",
    "def factorial(n):\n",
    "    if n == 0:\n",
    "        return 1\n",
    "    else:\n",
    "        return n * factorial(n-1)\n",
    "\n",
    "num = int(input(\"Enter a number: \"))\n",
    "print(f\"The factorial of {num} is {factorial(num)}\")"
   ]
  },
  {
   "cell_type": "markdown",
   "metadata": {},
   "source": [
    "## 2. Variables and Data Types\n",
    "\n",
    "**Question 6:** Create variables of different data types: integer, float, string, and boolean. Print their values and types."
   ]
  },
  {
   "cell_type": "code",
   "execution_count": 20,
   "metadata": {},
   "outputs": [
    {
     "name": "stdout",
     "output_type": "stream",
     "text": [
      "<class 'int'>\n",
      "<class 'float'>\n",
      "<class 'str'>\n",
      "<class 'bool'>\n"
     ]
    }
   ],
   "source": [
    "# Your code here\n",
    "integer_var =  10\n",
    "float_var = 10.1\n",
    "string_var = \"addy\"\n",
    "boolean= True\n",
    "\n",
    "print(type(integer_var))\n",
    "print(type(float_var))\n",
    "print(type(string_var))\n",
    "print(type(boolean))"
   ]
  },
  {
   "cell_type": "markdown",
   "metadata": {},
   "source": [
    "**Question 7:** Write a Python program to swap the values of two variables."
   ]
  },
  {
   "cell_type": "code",
   "execution_count": 28,
   "metadata": {},
   "outputs": [
    {
     "name": "stdout",
     "output_type": "stream",
     "text": [
      "the value of a is 8\n",
      "the value of b is 4\n"
     ]
    }
   ],
   "source": [
    "# Your code here\n",
    "a = int(input(\"enter your number: \"))\n",
    "b = int(input(\"enter your number: \"))\n",
    "\n",
    "a, b = b, a\n",
    "print(f\"the value of a is {a}\")\n",
    "print(f\"the value of b is {b}\")\n",
    "\n",
    "    \n"
   ]
  },
  {
   "cell_type": "markdown",
   "metadata": {},
   "source": [
    "**Question 8:** Write a Python program to convert Celsius to Fahrenheit."
   ]
  },
  {
   "cell_type": "code",
   "execution_count": 29,
   "metadata": {},
   "outputs": [
    {
     "name": "stdout",
     "output_type": "stream",
     "text": [
      "93.2\n"
     ]
    }
   ],
   "source": [
    "# Your code here\n",
    "cel = float(input(\"Enter temp in celsius: \"))\n",
    "far = (cel * 9/5) + 32\n",
    "print(f\"{far}\")\n"
   ]
  },
  {
   "cell_type": "markdown",
   "metadata": {},
   "source": [
    "**Question 9:** Write a Python program to concatenate two strings."
   ]
  },
  {
   "cell_type": "code",
   "execution_count": 30,
   "metadata": {},
   "outputs": [
    {
     "name": "stdout",
     "output_type": "stream",
     "text": [
      "addykuku\n"
     ]
    }
   ],
   "source": [
    "# Your code here\n",
    "a = str(input(\"enter : \"))\n",
    "b = str(input(\"enter : \"))\n",
    "\n",
    "print(a+b)"
   ]
  },
  {
   "cell_type": "markdown",
   "metadata": {},
   "source": [
    "**Question 10:** Write a Python program to check if a variable is of a specific data type."
   ]
  },
  {
   "cell_type": "code",
   "execution_count": 35,
   "metadata": {},
   "outputs": [
    {
     "name": "stdout",
     "output_type": "stream",
     "text": [
      "it is a string\n"
     ]
    }
   ],
   "source": [
    "# Your code here\n",
    "var = (input(\"enter : \"))\n",
    "\n",
    "if isinstance(var, str):\n",
    "    print(\"it is a string\")\n",
    "else:\n",
    "    print(\"no\")\n"
   ]
  },
  {
   "cell_type": "markdown",
   "metadata": {},
   "source": [
    "## 3. Basic Operators (Arithmetic, Comparison, Logical)\n",
    "\n",
    "**Question 11:** Write a Python program to perform arithmetic operations: addition, subtraction, multiplication, and division."
   ]
  },
  {
   "cell_type": "code",
   "execution_count": 42,
   "metadata": {},
   "outputs": [
    {
     "name": "stdout",
     "output_type": "stream",
     "text": [
      "2\n",
      "-1\n",
      "3\n",
      "0.5\n"
     ]
    }
   ],
   "source": [
    "# Your code here\n",
    "# class arithematicops:\n",
    "#     def __init__(self):\n",
    "#         self.num1 = int(input(\"enter : \"))\n",
    "#         self.num2 = int(input(\"enter : \"))\n",
    "\n",
    "#     def add(self):\n",
    "#         return self.num1 + self.num2\n",
    "    \n",
    "#     def sub(self):\n",
    "#         return self.num1 - self.num2\n",
    "    \n",
    "#     def multiply(self):\n",
    "#         return self.num1 * self.num2\n",
    "    \n",
    "#     def divide(self):\n",
    "#         return self.num1/self.num2\n",
    "\n",
    "# a = arithematicops(1,2)\n",
    "\n",
    "# print(a.multiply())\n",
    "# print(a.sub())\n",
    "# print(a.add())\n",
    "# print(a.divide())\n",
    "\n",
    "\n",
    "class arithematicops:\n",
    "    def __init__(self,num1 , num2):\n",
    "        self.num1 = num1\n",
    "        self.num2 = num2\n",
    "\n",
    "    def add(self):\n",
    "        return self.num1 + self.num2\n",
    "    \n",
    "    def sub(self):\n",
    "        return self.num1 - self.num2\n",
    "    \n",
    "    def multiply(self):\n",
    "        return self.num1 * self.num2\n",
    "    \n",
    "    def divide(self):\n",
    "        return self.num1/self.num2\n",
    "\n",
    "a = arithematicops(1,2)\n",
    "\n",
    "print(a.multiply())\n",
    "print(a.sub())\n",
    "print(a.add())\n",
    "print(a.divide())"
   ]
  },
  {
   "cell_type": "markdown",
   "metadata": {},
   "source": [
    "**Question 12:** Write a Python program to demonstrate comparison operators: equal to, not equal to, greater than, less than."
   ]
  },
  {
   "cell_type": "code",
   "execution_count": 44,
   "metadata": {},
   "outputs": [
    {
     "name": "stdout",
     "output_type": "stream",
     "text": [
      "5 is greater\n"
     ]
    }
   ],
   "source": [
    "# Your code here\n",
    "a = int(input(\"enter: \"))\n",
    "b = int(input(\"enter: \"))\n",
    "\n",
    "if a > b:\n",
    "    print(f\"{a} is greater\")\n",
    "elif a < b:\n",
    "    print(f\"{b} is greater\")\n",
    "elif a == b:\n",
    "    print(\"both are equal\")\n",
    "else:\n",
    "    print(\"not equal\")\n"
   ]
  },
  {
   "cell_type": "markdown",
   "metadata": {},
   "source": [
    "**Question 13:** Write a Python program to demonstrate logical operators: and, or, not."
   ]
  },
  {
   "cell_type": "code",
   "execution_count": 45,
   "metadata": {},
   "outputs": [
    {
     "name": "stdout",
     "output_type": "stream",
     "text": [
      "True and False: False\n",
      "True or False: True\n",
      "not True: False\n"
     ]
    }
   ],
   "source": [
    "# Your code here\n",
    "a = True\n",
    "b = False\n",
    "\n",
    "print(f\"True and False: {a and b}\")\n",
    "print(f\"True or False: {a or b}\")\n",
    "print(f\"not True: {not a}\")"
   ]
  },
  {
   "cell_type": "markdown",
   "metadata": {},
   "source": [
    "**Question 14:** Write a Python program to calculate the square of a number."
   ]
  },
  {
   "cell_type": "code",
   "execution_count": 46,
   "metadata": {},
   "outputs": [
    {
     "name": "stdout",
     "output_type": "stream",
     "text": [
      "The square of 9.0 is 81.0\n"
     ]
    }
   ],
   "source": [
    "# Your code here\n",
    "num = float(input(\"Enter a number: \"))\n",
    "square = num ** 2\n",
    "print(f\"The square of {num} is {square}\")"
   ]
  },
  {
   "cell_type": "markdown",
   "metadata": {},
   "source": [
    "**Question 15:** Write a Python program to check if a number is even or odd."
   ]
  },
  {
   "cell_type": "code",
   "execution_count": 47,
   "metadata": {},
   "outputs": [
    {
     "name": "stdout",
     "output_type": "stream",
     "text": [
      "odd\n"
     ]
    }
   ],
   "source": [
    "# Your code here\n",
    "num = float(input(\"Enter a number: \"))\n",
    "if num % 2 == 0:\n",
    "    print(\"even\")\n",
    "else:\n",
    "    print(\"odd\")"
   ]
  },
  {
   "cell_type": "markdown",
   "metadata": {},
   "source": [
    "**Question 16:** Write a Python program to find the sum of the first n natural numbers."
   ]
  },
  {
   "cell_type": "code",
   "execution_count": 2,
   "metadata": {},
   "outputs": [
    {
     "name": "stdout",
     "output_type": "stream",
     "text": [
      "15.0\n"
     ]
    }
   ],
   "source": [
    "# Your code here\n",
    "num = float(input(\"Enter a number: \"))\n",
    "if num == 0:\n",
    "    print(\"not a natural number\")\n",
    "else:\n",
    "    print((num * (num + 1))/2)"
   ]
  },
  {
   "cell_type": "markdown",
   "metadata": {},
   "source": [
    "**Question 17:** Write a Python program to check if a year is a leap year."
   ]
  },
  {
   "cell_type": "code",
   "execution_count": 13,
   "metadata": {},
   "outputs": [
    {
     "name": "stdout",
     "output_type": "stream",
     "text": [
      "not\n"
     ]
    }
   ],
   "source": [
    "# Your code here\n",
    "year = int(input(\"enter your year: \"))\n",
    "if year%4 == 0 and year%100 != 0:\n",
    "    print(\"leap year confirmed\")\n",
    "elif year%400 == 0:\n",
    "    print(\"this is a leap year\")\n",
    "else:\n",
    "    print(\"not\")\n"
   ]
  },
  {
   "cell_type": "markdown",
   "metadata": {},
   "source": [
    "**Question 18:** Write a Python program to reverse a string."
   ]
  },
  {
   "cell_type": "code",
   "execution_count": null,
   "metadata": {},
   "outputs": [
    {
     "name": "stdout",
     "output_type": "stream",
     "text": [
      "yda\n"
     ]
    }
   ],
   "source": [
    "# Your code here\n",
    "year = str(input(\"enter: \"))\n",
    "\n",
    "print(year[::-1])\n",
    "\n"
   ]
  },
  {
   "cell_type": "markdown",
   "metadata": {},
   "source": [
    "**Question 19:** Write a Python program to check if a string is a palindrome."
   ]
  },
  {
   "cell_type": "code",
   "execution_count": 17,
   "metadata": {},
   "outputs": [
    {
     "name": "stdout",
     "output_type": "stream",
     "text": [
      "not a palindrome\n"
     ]
    }
   ],
   "source": [
    "# Your code here\n",
    "year = str(input(\"enter: \"))\n",
    "if year == year[::-1]:\n",
    "    print(\"yes it is palindrome\")\n",
    "else:\n",
    "    print(\"not a palindrome\")\n",
    "\n"
   ]
  },
  {
   "cell_type": "markdown",
   "metadata": {},
   "source": [
    "**Question 20:** Write a Python program to sort a list of numbers in ascending order."
   ]
  },
  {
   "cell_type": "code",
   "execution_count": 18,
   "metadata": {},
   "outputs": [
    {
     "name": "stdout",
     "output_type": "stream",
     "text": [
      "Please enter a valid number.\n",
      "Sorted list: [1.0, 2.0, 3.0, 4.0, 5.0, 6.0, 7.0, 8.0]\n"
     ]
    }
   ],
   "source": [
    "trash = []\n",
    "\n",
    "# Keep asking for numbers until the user enters 'done'\n",
    "while True:\n",
    "    user_input = input(\"Enter a number (or type 'done' to finish): \")\n",
    "    if user_input.lower() == \"done\":\n",
    "        break\n",
    "    try:\n",
    "        number = float(user_input)\n",
    "        trash.append(number)\n",
    "    except ValueError:\n",
    "        print(\"Please enter a valid number.\")\n",
    "\n",
    "# Sort the list\n",
    "trash.sort()\n",
    "\n",
    "# Print sorted list\n",
    "print(\"Sorted list:\", trash)\n",
    "\n",
    "\n",
    "\n",
    "\n",
    "\n"
   ]
  }
 ],
 "metadata": {
  "kernelspec": {
   "display_name": "roadmap",
   "language": "python",
   "name": "python3"
  },
  "language_info": {
   "codemirror_mode": {
    "name": "ipython",
    "version": 3
   },
   "file_extension": ".py",
   "mimetype": "text/x-python",
   "name": "python",
   "nbconvert_exporter": "python",
   "pygments_lexer": "ipython3",
   "version": "3.12.9"
  }
 },
 "nbformat": 4,
 "nbformat_minor": 4
}
